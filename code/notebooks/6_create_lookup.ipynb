{
 "cells": [
  {
   "cell_type": "code",
   "execution_count": 17,
   "id": "ee1a625c-eb42-4a44-be54-e6f928694d43",
   "metadata": {},
   "outputs": [],
   "source": [
    "import flywheel\n",
    "import random\n",
    "import pandas as pd\n",
    "import os\n",
    "import datetime \n",
    "fw = flywheel.Client()\n",
    "project_id = '60fef55e60ec55d1b0e0741e'\n",
    "project = fw.get(project_id)"
   ]
  },
  {
   "cell_type": "markdown",
   "id": "958e469e-0a39-40a7-aef7-87643da9bb07",
   "metadata": {},
   "source": [
    "## Generate table from what's on Flywheel"
   ]
  },
  {
   "cell_type": "code",
   "execution_count": 2,
   "id": "8cc9833f-c95d-4c1a-b857-858c5af45d27",
   "metadata": {},
   "outputs": [],
   "source": [
    "project_sessions = [fw.get_session(x.id) for x in fw.get_project_sessions(project_id)]"
   ]
  },
  {
   "cell_type": "code",
   "execution_count": 3,
   "id": "2097aaaa-1596-4925-9cc8-ce573a6b4bb4",
   "metadata": {},
   "outputs": [],
   "source": [
    "# create list of subject and session labels\n",
    "subject_labels = []\n",
    "session_labels = []\n",
    "for session in project_sessions:\n",
    "    subject = session.subject\n",
    "    subject_labels.append(subject.label)\n",
    "    session_labels.append(session.label)\n"
   ]
  },
  {
   "cell_type": "code",
   "execution_count": 4,
   "id": "714dea2b-0623-4f66-aebc-2a24516b2afc",
   "metadata": {},
   "outputs": [
    {
     "name": "stdout",
     "output_type": "stream",
     "text": [
      "['123894x20190327x3T', '100049x20160621x3T', '100957_20110426', '100113x20160620x3T', '120937x20160711x3T']\n",
      "['123894', '100049', '100957', '100113', '120937']\n"
     ]
    }
   ],
   "source": [
    "print(session_labels[0:5])\n",
    "print(subject_labels[0:5])"
   ]
  },
  {
   "cell_type": "code",
   "execution_count": 5,
   "id": "c2631f1c-4686-40e6-aa01-8f282bea2417",
   "metadata": {},
   "outputs": [
    {
     "name": "stdout",
     "output_type": "stream",
     "text": [
      "[17, 2, 25, 26, 45]\n",
      "[33, 49, 46, 35, 38]\n",
      "[1, 39, 38, 56, 36]\n"
     ]
    }
   ],
   "source": [
    "# generate list of numbers from 1 to number of sessions (i.e. images)\n",
    "numbers = list(range(1, len(session_labels) + 1))\n",
    "\n",
    "#stage 1\n",
    "stage1 = numbers.copy()\n",
    "random.shuffle(stage1)\n",
    "print(stage1[0:5])\n",
    "\n",
    "# stage 3\n",
    "stage3 = numbers.copy()\n",
    "random.shuffle(stage3)\n",
    "print(stage3[0:5])\n",
    "\n",
    "# stage 4\n",
    "stage4 = numbers.copy()\n",
    "random.shuffle(stage4)\n",
    "print(stage4[0:5])"
   ]
  },
  {
   "cell_type": "code",
   "execution_count": 6,
   "id": "17afbc2d-24e1-473e-9b82-ff6e0b267056",
   "metadata": {},
   "outputs": [],
   "source": [
    "data = list(zip(subject_labels, session_labels, stage1, stage3, stage4))\n",
    "df = pd.DataFrame(data, columns=['Subject Label', 'Session Label', 'Stage 1', 'Stage 3', 'Stage 4'])"
   ]
  },
  {
   "cell_type": "code",
   "execution_count": 7,
   "id": "4ef30653-1ce9-4675-b580-62f029da16f3",
   "metadata": {},
   "outputs": [
    {
     "data": {
      "text/html": [
       "<div>\n",
       "<style scoped>\n",
       "    .dataframe tbody tr th:only-of-type {\n",
       "        vertical-align: middle;\n",
       "    }\n",
       "\n",
       "    .dataframe tbody tr th {\n",
       "        vertical-align: top;\n",
       "    }\n",
       "\n",
       "    .dataframe thead th {\n",
       "        text-align: right;\n",
       "    }\n",
       "</style>\n",
       "<table border=\"1\" class=\"dataframe\">\n",
       "  <thead>\n",
       "    <tr style=\"text-align: right;\">\n",
       "      <th></th>\n",
       "      <th>Subject Label</th>\n",
       "      <th>Session Label</th>\n",
       "      <th>Stage 1</th>\n",
       "      <th>Stage 3</th>\n",
       "      <th>Stage 4</th>\n",
       "    </tr>\n",
       "  </thead>\n",
       "  <tbody>\n",
       "    <tr>\n",
       "      <th>0</th>\n",
       "      <td>123894</td>\n",
       "      <td>123894x20190327x3T</td>\n",
       "      <td>17</td>\n",
       "      <td>33</td>\n",
       "      <td>1</td>\n",
       "    </tr>\n",
       "    <tr>\n",
       "      <th>1</th>\n",
       "      <td>100049</td>\n",
       "      <td>100049x20160621x3T</td>\n",
       "      <td>2</td>\n",
       "      <td>49</td>\n",
       "      <td>39</td>\n",
       "    </tr>\n",
       "    <tr>\n",
       "      <th>2</th>\n",
       "      <td>100957</td>\n",
       "      <td>100957_20110426</td>\n",
       "      <td>25</td>\n",
       "      <td>46</td>\n",
       "      <td>38</td>\n",
       "    </tr>\n",
       "    <tr>\n",
       "      <th>3</th>\n",
       "      <td>100113</td>\n",
       "      <td>100113x20160620x3T</td>\n",
       "      <td>26</td>\n",
       "      <td>35</td>\n",
       "      <td>56</td>\n",
       "    </tr>\n",
       "    <tr>\n",
       "      <th>4</th>\n",
       "      <td>120937</td>\n",
       "      <td>120937x20160711x3T</td>\n",
       "      <td>45</td>\n",
       "      <td>38</td>\n",
       "      <td>36</td>\n",
       "    </tr>\n",
       "  </tbody>\n",
       "</table>\n",
       "</div>"
      ],
      "text/plain": [
       "  Subject Label       Session Label  Stage 1  Stage 3  Stage 4\n",
       "0        123894  123894x20190327x3T       17       33        1\n",
       "1        100049  100049x20160621x3T        2       49       39\n",
       "2        100957     100957_20110426       25       46       38\n",
       "3        100113  100113x20160620x3T       26       35       56\n",
       "4        120937  120937x20160711x3T       45       38       36"
      ]
     },
     "execution_count": 7,
     "metadata": {},
     "output_type": "execute_result"
    }
   ],
   "source": [
    "df.head()"
   ]
  },
  {
   "cell_type": "code",
   "execution_count": 20,
   "id": "939fa655-e1b7-4534-8814-1a485b290c4e",
   "metadata": {},
   "outputs": [
    {
     "data": {
      "text/plain": [
       "0"
      ]
     },
     "execution_count": 20,
     "metadata": {},
     "output_type": "execute_result"
    }
   ],
   "source": [
    "# save the csv with timestamp\n",
    "x = datetime.datetime.now()\n",
    "datestr = '%s-%s-%s_%s:%s' % (x.year, x.month, x.day, x.hour, x.minute)\n",
    "\n",
    "filename = f'lookup_table_{datestr}.csv'\n",
    "file = os.path.join('..', filename)\n",
    "df.to_csv(file, index=False)\n",
    "cmd = f'cp {file} ../lookuptable_backups/{filename}'\n",
    "os.system(cmd)"
   ]
  }
 ],
 "metadata": {
  "kernelspec": {
   "display_name": "Python 3",
   "language": "python",
   "name": "python3"
  },
  "language_info": {
   "codemirror_mode": {
    "name": "ipython",
    "version": 3
   },
   "file_extension": ".py",
   "mimetype": "text/x-python",
   "name": "python",
   "nbconvert_exporter": "python",
   "pygments_lexer": "ipython3",
   "version": "3.9.4"
  }
 },
 "nbformat": 4,
 "nbformat_minor": 5
}
