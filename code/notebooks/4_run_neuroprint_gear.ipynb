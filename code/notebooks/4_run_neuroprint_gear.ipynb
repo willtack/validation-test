{
 "cells": [
  {
   "cell_type": "markdown",
   "metadata": {},
   "source": [
    "## Run neuroprint analyses for Neuroprint Validation"
   ]
  },
  {
   "cell_type": "code",
   "execution_count": 5,
   "metadata": {},
   "outputs": [],
   "source": [
    "import flywheel\n",
    "import pandas as pd\n",
    "from datetime import datetime\n",
    "\n",
    "fw = flywheel.Client()\n",
    "project_id = '60fef55e60ec55d1b0e0741e'\n",
    "project = fw.get(project_id) \n",
    "gear = 'wscore-ct-heatmap'\n",
    "gear_fw = fw.lookup('gears/wscore-ct-heatmap/0.5.0_0.5.0')"
   ]
  },
  {
   "cell_type": "code",
   "execution_count": 28,
   "metadata": {},
   "outputs": [],
   "source": [
    "project_sessions = [fw.get_session(x.id) for x in fw.get_project_sessions(project_id)]"
   ]
  },
  {
   "cell_type": "code",
   "execution_count": 36,
   "metadata": {},
   "outputs": [
    {
     "name": "stdout",
     "output_type": "stream",
     "text": [
      "RUNNING neuroprint_2021-12-1_15:51_WT with sex male (0) and age 71.04722792607802\n",
      "RUNNING neuroprint_2021-12-1_15:51_WT with sex female (1) and age 75.0\n",
      "RUNNING neuroprint_2021-12-1_15:51_WT with sex male (0) and age 58.0\n",
      "RUNNING neuroprint_2021-12-1_15:51_WT with sex female (1) and age 66.0\n",
      "RUNNING neuroprint_2021-12-1_15:51_WT with sex female (1) and age 69.0\n",
      "RUNNING neuroprint_2021-12-1_15:51_WT with sex female (1) and age 72.0\n",
      "RUNNING neuroprint_2021-12-1_15:51_WT with sex female (1) and age 73.0\n",
      "RUNNING neuroprint_2021-12-1_15:51_WT with sex male (0) and age 70.0\n",
      "RUNNING neuroprint_2021-12-1_15:51_WT with sex male (0) and age 72.0\n",
      "RUNNING neuroprint_2021-12-1_15:51_WT with sex male (0) and age 64.0\n",
      "RUNNING neuroprint_2021-12-1_15:51_WT with sex female (1) and age 72.0\n",
      "RUNNING neuroprint_2021-12-1_15:51_WT with sex male (0) and age 66.0\n",
      "RUNNING neuroprint_2021-12-1_15:51_WT with sex male (0) and age 70.0\n",
      "RUNNING neuroprint_2021-12-1_15:51_WT with sex male (0) and age 68.0\n",
      "RUNNING neuroprint_2021-12-1_15:51_WT with sex female (1) and age 76.0\n",
      "RUNNING neuroprint_2021-12-1_15:51_WT with sex female (1) and age 71.0\n",
      "RUNNING neuroprint_2021-12-1_15:51_WT with sex male (0) and age 70.0\n",
      "RUNNING neuroprint_2021-12-1_15:51_WT with sex male (0) and age 69.0\n",
      "RUNNING neuroprint_2021-12-1_15:51_WT with sex male (0) and age 67.0\n",
      "RUNNING neuroprint_2021-12-1_15:51_WT with sex male (0) and age 70.0\n",
      "RUNNING neuroprint_2021-12-1_15:51_WT with sex female (1) and age 62.0\n",
      "RUNNING neuroprint_2021-12-1_15:51_WT with sex female (1) and age 81.0\n",
      "RUNNING neuroprint_2021-12-1_15:51_WT with sex male (0) and age 78.0\n",
      "RUNNING neuroprint_2021-12-1_15:51_WT with sex male (0) and age 77.0\n",
      "RUNNING neuroprint_2021-12-1_15:51_WT with sex female (1) and age 72.0\n",
      "RUNNING neuroprint_2021-12-1_15:51_WT with sex female (1) and age 64.0\n",
      "RUNNING neuroprint_2021-12-1_15:51_WT with sex female (1) and age 68.0\n",
      "RUNNING neuroprint_2021-12-1_15:51_WT with sex male (0) and age 61.0\n",
      "RUNNING neuroprint_2021-12-1_15:51_WT with sex female (1) and age 73.0\n",
      "RUNNING neuroprint_2021-12-1_15:51_WT with sex female (1) and age 60.0\n",
      "RUNNING neuroprint_2021-12-1_15:51_WT with sex male (0) and age 55.0\n",
      "RUNNING neuroprint_2021-12-1_15:51_WT with sex male (0) and age 66.0\n",
      "RUNNING neuroprint_2021-12-1_15:51_WT with sex male (0) and age 77.0\n",
      "RUNNING neuroprint_2021-12-1_15:51_WT with sex female (1) and age 57.0\n",
      "RUNNING neuroprint_2021-12-1_15:51_WT with sex male (0) and age 65.0\n",
      "RUNNING neuroprint_2021-12-1_15:51_WT with sex male (0) and age 72.0\n",
      "RUNNING neuroprint_2021-12-1_15:51_WT with sex female (1) and age 59.0\n",
      "RUNNING neuroprint_2021-12-1_15:51_WT with sex female (1) and age 63.0\n",
      "RUNNING neuroprint_2021-12-1_15:51_WT with sex male (0) and age 57.0\n",
      "RUNNING neuroprint_2021-12-1_15:51_WT with sex male (0) and age 71.0\n",
      "RUNNING neuroprint_2021-12-1_15:51_WT with sex male (0) and age 68.0\n",
      "RUNNING neuroprint_2021-12-1_15:51_WT with sex male (0) and age 51.0\n",
      "RUNNING neuroprint_2021-12-1_15:51_WT with sex male (0) and age 54.0\n",
      "RUNNING neuroprint_2021-12-1_15:51_WT with sex female (1) and age 63.0\n",
      "RUNNING neuroprint_2021-12-1_15:51_WT with sex female (1) and age 64.0\n",
      "RUNNING neuroprint_2021-12-1_15:51_WT with sex male (0) and age 58.0\n",
      "RUNNING neuroprint_2021-12-1_15:51_WT with sex male (0) and age 71.0\n",
      "RUNNING neuroprint_2021-12-1_15:51_WT with sex female (1) and age 58.0\n",
      "RUNNING neuroprint_2021-12-1_15:51_WT with sex male (0) and age 65.0\n",
      "RUNNING neuroprint_2021-12-1_15:51_WT with sex male (0) and age 61.0\n",
      "RUNNING neuroprint_2021-12-1_15:51_WT with sex male (0) and age 65.0\n",
      "RUNNING neuroprint_2021-12-1_15:51_WT with sex male (0) and age 75.0\n",
      "RUNNING neuroprint_2021-12-1_15:51_WT with sex male (0) and age 63.0\n",
      "RUNNING neuroprint_2021-12-1_15:51_WT with sex male (0) and age 60.0\n",
      "RUNNING neuroprint_2021-12-1_15:51_WT with sex male (0) and age 55.0\n",
      "RUNNING neuroprint_2021-12-1_15:51_WT with sex female (1) and age 70.0\n",
      "RUNNING neuroprint_2021-12-1_15:51_WT with sex female (1) and age 62.0\n",
      "RUNNING neuroprint_2021-12-1_15:51_WT with sex male (0) and age 83.0\n",
      "RUNNING neuroprint_2021-12-1_15:51_WT with sex female (1) and age 60.0\n",
      "RUNNING neuroprint_2021-12-1_15:51_WT with sex male (0) and age 58.0\n"
     ]
    }
   ],
   "source": [
    "# date for label\n",
    "x = datetime.now()\n",
    "datestr = '%s-%s-%s_%s:%s' % (x.year, x.month, x.day, x.hour, x.minute)\n",
    "\n",
    "for session in project_sessions:\n",
    "    for analysis in session.analyses:          \n",
    "        if 'antsct' in analysis.label and analysis.files:\n",
    "            # get antsct zip file\n",
    "            zip_file = [f for f in analysis.files if f.name.endswith('.zip')][0]\n",
    "            # get patient age\n",
    "            age_secs = session.age\n",
    "            age_years = age_secs / (60*60*24*365.25) \n",
    "            # get patient sex and convert to binary\n",
    "            sex=session.subject.sex\n",
    "            if sex == 'male':\n",
    "                sex_bin = 0\n",
    "            elif sex == 'female':\n",
    "                sex_bin = 1\n",
    "            else:\n",
    "                print(\"Did not recognize sex\")\n",
    "                continue\n",
    "            \n",
    "            \n",
    "            asys_label = f'neuroprint_{datestr}_WT'\n",
    "            print(f\"RUNNING {asys_label} with sex {sex} ({sex_bin}) and age {age_years}\")\n",
    "            inputs = {\"antsct_output\": zip_file}\n",
    "            config = {\"patient_age\": age_years, \"patient_sex\": sex_bin, \"wthresholds\": \"0.0 1.0 1.5\"}\n",
    "            analysis_id = gear_fw.run(analysis_label=asys_label, config=config, inputs=inputs, destination=session)\n",
    "            \n",
    "\n",
    "    "
   ]
  },
  {
   "cell_type": "code",
   "execution_count": null,
   "metadata": {},
   "outputs": [],
   "source": []
  }
 ],
 "metadata": {
  "kernelspec": {
   "display_name": "Python 3",
   "language": "python",
   "name": "python3"
  },
  "language_info": {
   "codemirror_mode": {
    "name": "ipython",
    "version": 3
   },
   "file_extension": ".py",
   "mimetype": "text/x-python",
   "name": "python",
   "nbconvert_exporter": "python",
   "pygments_lexer": "ipython3",
   "version": "3.9.4"
  }
 },
 "nbformat": 4,
 "nbformat_minor": 4
}
