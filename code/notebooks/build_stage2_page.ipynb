{
 "cells": [
  {
   "cell_type": "markdown",
   "id": "13fdeedd-3019-4d07-900c-1b948eee1728",
   "metadata": {},
   "source": [
    "## Prepare files"
   ]
  },
  {
   "cell_type": "code",
   "execution_count": 5,
   "id": "752582bd-2212-4a53-a3d6-e4bb75a2eeb9",
   "metadata": {
    "tags": []
   },
   "outputs": [
    {
     "data": {
      "text/plain": [
       "['../../stages/stage2/heatmaps/sub-124509_ses-124509x20200813x3T_wscores_1.50.png',\n",
       " '../../stages/stage2/heatmaps/sub-100957_ses-100957_20110426_wscores_1.50.png']"
      ]
     },
     "execution_count": 5,
     "metadata": {},
     "output_type": "execute_result"
    }
   ],
   "source": [
    "# copy downloaded heatmaps to stages/stage2/\n",
    "from distutils.dir_util import copy_tree\n",
    "\n",
    "heatmapdir = \"../heatmaps/stage2\"\n",
    "stage2maps = \"../../stages/stage2/heatmaps\"\n",
    "stage2html = \"../../stages/stage2/html\"\n",
    "\n",
    "copy_tree(heatmapdir, stage2maps)"
   ]
  },
  {
   "cell_type": "code",
   "execution_count": 4,
   "id": "284ef927-903c-4536-b980-fdafecec204c",
   "metadata": {
    "tags": []
   },
   "outputs": [
    {
     "name": "stdout",
     "output_type": "stream",
     "text": [
      "sub-124509_ses-124509x20200813x3T_wscores_1.50.png\n",
      "sub-100957_ses-100957_20110426_wscores_1.50.png\n",
      "['../../stages/stage2/heatmaps/subject1.png', '../../stages/stage2/heatmaps/subject2.png']\n"
     ]
    }
   ],
   "source": [
    "# # rename files to be anonymous\n",
    "# from os import listdir, rename\n",
    "# from os.path import isfile, join\n",
    "\n",
    "# image_files = []\n",
    "# i=1\n",
    "# for img in listdir(stage2maps):\n",
    "#     print(img)\n",
    "#     anon_name = join(stage2maps, 'subject'+str(i)+'.png')\n",
    "#     rename(join(stage2maps, img), anon_name)\n",
    "#     image_files.append(anon_name)\n",
    "#     i=i+1      \n",
    "\n",
    "# image_files.sort()\n",
    "# print(image_files)\n"
   ]
  },
  {
   "cell_type": "markdown",
   "id": "4bbc11ee-fe2b-481a-86ca-de13c6898293",
   "metadata": {},
   "source": [
    "## Write Stage2.md page"
   ]
  },
  {
   "cell_type": "code",
   "execution_count": 22,
   "id": "6054a1e1-d6ed-424f-8151-2f7a13d9e429",
   "metadata": {},
   "outputs": [],
   "source": [
    "## Write intro to file\n",
    "markdown_file = '../../stage2.md'\n",
    "intro = \"\"\"---\n",
    "# Stage 2\n",
    "layout: page\n",
    "title: Stage 2\n",
    "permalink: /stage2/\n",
    "---\n",
    "\n",
    "**Instructions**\n",
    "\n",
    "Simply scroll through this web page to get a feel for the heatmaps (shuffled and unlabelled). Each map thresholded at a w-score of 1.5 (essentially one and a half standard deviations). The maximum w-score is 4. The color map is JET256, which ranges from blue to red (the range is displayed in the bottom left corner).\n",
    "A view of the T1 and corresponding heatmap from the same subject, for reference.\n",
    "\n",
    "\"\"\"\n",
    "\n",
    "with open(markdown_file,'w') as f:\n",
    "    f.write(intro)"
   ]
  },
  {
   "cell_type": "code",
   "execution_count": 23,
   "id": "9163c19d-ee1b-4331-a082-c2ceb56f0dda",
   "metadata": {},
   "outputs": [
    {
     "data": {
      "text/plain": [
       "('124509', '124509x20200813x3T')"
      ]
     },
     "execution_count": 23,
     "metadata": {},
     "output_type": "execute_result"
    }
   ],
   "source": [
    "def parse_filename(fname):\n",
    "    sub_start = fname.find(\"sub-\") + len(\"sub-\")\n",
    "    ses_start = fname.find(\"ses-\") + len(\"ses-\")\n",
    "    sub_end = fname.find(\"_\")\n",
    "    ses_end = fname.find(\"_w\")\n",
    "    subject = fname[sub_start:sub_end]\n",
    "    session = fname[ses_start:ses_end]\n",
    "    return subject, session\n",
    "\n",
    "fname = \"sub-124509_ses-124509x20200813x3T_wscores_1.50.png\"\n",
    "parse_filename(fname)"
   ]
  },
  {
   "cell_type": "code",
   "execution_count": 25,
   "id": "9a4768d9-5398-4e90-b199-d2f534de510a",
   "metadata": {},
   "outputs": [],
   "source": [
    "import os\n",
    "from os import listdir, rename\n",
    "from os.path import isfile, join\n",
    "\n",
    "# write image links in stage2.md\n",
    "for img in listdir(stage2maps):\n",
    "    # write heatmap image\n",
    "    line_str = f'![Subject](/stages/stage2/heatmaps/{img})'\n",
    "    \n",
    "\n",
    "    \n",
    "    # define and write html file\n",
    "    sub,ses = parse_filename(img)\n",
    "    htmlfile = join(stage2html, f\"sub-{sub}_ses-{ses}_wscores_1.50.html\")\n",
    "    \n",
    "    with open(htmlfile,'r') as f1, open(markdown_file, 'a+') as f2:\n",
    "        f2.write(line_str)\n",
    "        for line in f1:\n",
    "            # write content to second file\n",
    "            f2.write(line)\n",
    "        f2.write(\"<br/>\")\n",
    "        \n",
    "    # edit html to move left\n",
    "#     oldstr = '<div style=\"width:55%;margin:auto;text-align:center;\"><div class=\"papaya\" data-params=\"params\"></div></div>'\n",
    "#     newstr = '<div style=\"width:45%;margin:auto;text-align:left;\"><div class=\"papaya\" data-params=\"params\"></div>'\n",
    "#     os.system(f\"sed -i 's|{oldstr}|{newstr}|g' ../../stage2.md\")\n",
    "\n",
    "    # delete html tags\n",
    "    #os.system(\"sed -i 's|<!DOCTYPE html>||g' ../../stage2.md\")\n",
    "                    \n"
   ]
  },
  {
   "cell_type": "code",
   "execution_count": 32,
   "id": "396a7324-afac-4105-b6ba-1d5aea4f2738",
   "metadata": {},
   "outputs": [
    {
     "data": {
      "text/plain": [
       "'![Subject 58](/stages/stage2/sub-100957_ses-100957_20110426_wscores_1.50.png)'"
      ]
     },
     "execution_count": 32,
     "metadata": {},
     "output_type": "execute_result"
    }
   ],
   "source": [
    "line_str"
   ]
  },
  {
   "cell_type": "code",
   "execution_count": 15,
   "id": "58a145fa-d174-4b8d-a1e1-8254b26f6b59",
   "metadata": {},
   "outputs": [
    {
     "data": {
      "text/plain": [
       "'../../stages/stage2/html/sub-100957_ses-100957_20110426_wscores_1.50.html'"
      ]
     },
     "execution_count": 15,
     "metadata": {},
     "output_type": "execute_result"
    }
   ],
   "source": [
    "htmlfile"
   ]
  }
 ],
 "metadata": {
  "kernelspec": {
   "display_name": "Python 3",
   "language": "python",
   "name": "python3"
  },
  "language_info": {
   "codemirror_mode": {
    "name": "ipython",
    "version": 3
   },
   "file_extension": ".py",
   "mimetype": "text/x-python",
   "name": "python",
   "nbconvert_exporter": "python",
   "pygments_lexer": "ipython3",
   "version": "3.8.8"
  }
 },
 "nbformat": 4,
 "nbformat_minor": 5
}
