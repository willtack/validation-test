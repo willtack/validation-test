{
 "cells": [
  {
   "cell_type": "markdown",
   "id": "13fdeedd-3019-4d07-900c-1b948eee1728",
   "metadata": {},
   "source": [
    "## Prepare files"
   ]
  },
  {
   "cell_type": "code",
   "execution_count": 1,
   "id": "752582bd-2212-4a53-a3d6-e4bb75a2eeb9",
   "metadata": {
    "collapsed": true,
    "jupyter": {
     "outputs_hidden": true
    },
    "tags": []
   },
   "outputs": [
    {
     "data": {
      "text/plain": [
       "['../../stages/stage2/sub-125987_ses-125987x20210610x3T_wscores_1.50.png',\n",
       " '../../stages/stage2/sub-105223_ses-20091103x1415_wscores_1.50.png',\n",
       " '../../stages/stage2/sub-114666_ses-20050209x1135_wscores_1.50.png',\n",
       " '../../stages/stage2/sub-122821_ses-20180110x1405_wscores_1.50.png',\n",
       " '../../stages/stage2/sub-103610_ses-20101220x1159_wscores_1.50.png',\n",
       " '../../stages/stage2/sub-122601_ses-20170920x1313_wscores_1.50.png',\n",
       " '../../stages/stage2/sub-118011_ses-20130612x1523_wscores_1.50.png',\n",
       " '../../stages/stage2/sub-116504_ses-20111220x1256_wscores_1.50.png',\n",
       " '../../stages/stage2/sub-100551_ses-20081008x1021_wscores_1.50.png',\n",
       " '../../stages/stage2/sub-125687_ses-125687x20200714x3T_wscores_1.50.png',\n",
       " '../../stages/stage2/sub-118460_ses-20131108x1000_wscores_1.50.png',\n",
       " '../../stages/stage2/sub-105468_ses-20060802x1113_wscores_1.50.png',\n",
       " '../../stages/stage2/sub-124938_ses-124938x20210527x3T_wscores_1.50.png',\n",
       " '../../stages/stage2/sub-120691_ses-20160121x1259_wscores_1.50.png',\n",
       " '../../stages/stage2/sub-100113_ses-100113x20160620x3T_wscores_1.50.png',\n",
       " '../../stages/stage2/sub-119851_ses-119851x20170606x3T_wscores_1.50.png',\n",
       " '../../stages/stage2/sub-122417_ses-20171213x1012_wscores_1.50.png',\n",
       " '../../stages/stage2/sub-118410_ses-20140226x1627_wscores_1.50.png',\n",
       " '../../stages/stage2/sub-108790_ses-20090218x1235_wscores_1.50.png',\n",
       " '../../stages/stage2/sub-100978_ses-20041103x1130_wscores_1.50.png',\n",
       " '../../stages/stage2/sub-107486_ses-107486x20200929x3T_wscores_1.50.png',\n",
       " '../../stages/stage2/sub-125098_ses-20190710x1517_wscores_1.50.png',\n",
       " '../../stages/stage2/sub-110445_ses-20060726x1128_wscores_1.50.png',\n",
       " '../../stages/stage2/sub-123894_ses-123894x20190327x3T_wscores_1.50.png',\n",
       " '../../stages/stage2/sub-122005_ses-122005x20171213x3T_wscores_1.50.png',\n",
       " '../../stages/stage2/sub-124972_ses-124972x20210525x3T_wscores_1.50.png',\n",
       " '../../stages/stage2/sub-113066x02_ses-113066x02x20210427x3T_wscores_1.50.png',\n",
       " '../../stages/stage2/sub-104190_ses-20091109x1206_wscores_1.50.png',\n",
       " '../../stages/stage2/sub-100049_ses-100049x20160621x3T_wscores_1.50.png',\n",
       " '../../stages/stage2/sub-122216_ses-122216x20200205x3T_wscores_1.50.png',\n",
       " '../../stages/stage2/sub-124509_ses-124509x20200813x3T_wscores_1.50.png',\n",
       " '../../stages/stage2/sub-124822_ses-124822x20210126x3T_wscores_1.50.png',\n",
       " '../../stages/stage2/sub-122946_ses-122946x20210427x3T_wscores_1.50.png',\n",
       " '../../stages/stage2/sub-121277_ses-20160907x1425_wscores_1.50.png',\n",
       " '../../stages/stage2/sub-121105_ses-121105x20170427x3T_wscores_1.50.png',\n",
       " '../../stages/stage2/sub-111006_ses-20050705x1118_wscores_1.50.png',\n",
       " '../../stages/stage2/sub-105371_ses-20071009x1020_wscores_1.50.png',\n",
       " '../../stages/stage2/sub-123352_ses-20180605x1417_wscores_1.50.png',\n",
       " '../../stages/stage2/sub-123831_ses-123831x20201201x3T_wscores_1.50.png',\n",
       " '../../stages/stage2/sub-100957_ses-100957_20110426_wscores_1.50.png',\n",
       " '../../stages/stage2/sub-107457_ses-20040928x1330_wscores_1.50.png',\n",
       " '../../stages/stage2/sub-120430_ses-20151007x1556_wscores_1.50.png',\n",
       " '../../stages/stage2/sub-125564_ses-125564x20201105x3T_wscores_1.50.png',\n",
       " '../../stages/stage2/sub-101841x02_ses-20090106x1214_wscores_1.50.png',\n",
       " '../../stages/stage2/sub-105644_ses-20111103x1154_wscores_1.50.png',\n",
       " '../../stages/stage2/sub-125572_ses-125572x20210323x3T_wscores_1.50.png',\n",
       " '../../stages/stage2/sub-114753_ses-20060607x1336_wscores_1.50.png',\n",
       " '../../stages/stage2/sub-105785_ses-20090512x1126_wscores_1.50.png',\n",
       " '../../stages/stage2/sub-115264_ses-20090304x1208_wscores_1.50.png',\n",
       " '../../stages/stage2/sub-125780_ses-125780x20210216x3T_wscores_1.50.png',\n",
       " '../../stages/stage2/sub-122242_ses-20170810x1221_wscores_1.50.png',\n",
       " '../../stages/stage2/sub-123575_ses-123575x20201015x3T_wscores_1.50.png',\n",
       " '../../stages/stage2/sub-109198_ses-20091201x1029_wscores_1.50.png',\n",
       " '../../stages/stage2/sub-115001_ses-20090331x0933_wscores_1.50.png',\n",
       " '../../stages/stage2/sub-120937_ses-120937x20160711x3T_wscores_1.50.png',\n",
       " '../../stages/stage2/sub-126022_ses-126022x20210112x3T_wscores_1.50.png',\n",
       " '../../stages/stage2/sub-124568_ses-124568x20210318x3T_wscores_1.50.png',\n",
       " '../../stages/stage2/sub-111642_ses-20080108x1018_wscores_1.50.png',\n",
       " '../../stages/stage2/sub-105769_ses-20090316x1310_wscores_1.50.png',\n",
       " '../../stages/stage2/sub-112286x01_ses-112286x01x20200721x3T_wscores_1.50.png']"
      ]
     },
     "execution_count": 1,
     "metadata": {},
     "output_type": "execute_result"
    }
   ],
   "source": [
    "# copy downloaded heatmaps to stages/stage2/\n",
    "from distutils.dir_util import copy_tree\n",
    "\n",
    "heatmapdir = \"../heatmaps\"\n",
    "stage2dir = \"../../stages/stage2\"\n",
    "\n",
    "copy_tree(heatmapdir, stage2dir)"
   ]
  },
  {
   "cell_type": "code",
   "execution_count": 2,
   "id": "284ef927-903c-4536-b980-fdafecec204c",
   "metadata": {
    "collapsed": true,
    "jupyter": {
     "outputs_hidden": true
    },
    "tags": []
   },
   "outputs": [
    {
     "name": "stdout",
     "output_type": "stream",
     "text": [
      "sub-125987_ses-125987x20210610x3T_wscores_1.50.png\n",
      "sub-105223_ses-20091103x1415_wscores_1.50.png\n",
      "sub-114666_ses-20050209x1135_wscores_1.50.png\n",
      "sub-122821_ses-20180110x1405_wscores_1.50.png\n",
      "sub-103610_ses-20101220x1159_wscores_1.50.png\n",
      "sub-122601_ses-20170920x1313_wscores_1.50.png\n",
      "sub-118011_ses-20130612x1523_wscores_1.50.png\n",
      "sub-116504_ses-20111220x1256_wscores_1.50.png\n",
      "sub-100551_ses-20081008x1021_wscores_1.50.png\n",
      "sub-125687_ses-125687x20200714x3T_wscores_1.50.png\n",
      "sub-118460_ses-20131108x1000_wscores_1.50.png\n",
      "sub-105468_ses-20060802x1113_wscores_1.50.png\n",
      "sub-124938_ses-124938x20210527x3T_wscores_1.50.png\n",
      "sub-120691_ses-20160121x1259_wscores_1.50.png\n",
      "sub-100113_ses-100113x20160620x3T_wscores_1.50.png\n",
      "sub-119851_ses-119851x20170606x3T_wscores_1.50.png\n",
      "sub-122417_ses-20171213x1012_wscores_1.50.png\n",
      "sub-118410_ses-20140226x1627_wscores_1.50.png\n",
      "sub-108790_ses-20090218x1235_wscores_1.50.png\n",
      "sub-100978_ses-20041103x1130_wscores_1.50.png\n",
      "sub-107486_ses-107486x20200929x3T_wscores_1.50.png\n",
      "sub-125098_ses-20190710x1517_wscores_1.50.png\n",
      "sub-110445_ses-20060726x1128_wscores_1.50.png\n",
      "sub-123894_ses-123894x20190327x3T_wscores_1.50.png\n",
      "sub-122005_ses-122005x20171213x3T_wscores_1.50.png\n",
      "sub-124972_ses-124972x20210525x3T_wscores_1.50.png\n",
      "sub-113066x02_ses-113066x02x20210427x3T_wscores_1.50.png\n",
      "sub-104190_ses-20091109x1206_wscores_1.50.png\n",
      "sub-100049_ses-100049x20160621x3T_wscores_1.50.png\n",
      "sub-122216_ses-122216x20200205x3T_wscores_1.50.png\n",
      "sub-124509_ses-124509x20200813x3T_wscores_1.50.png\n",
      "sub-124822_ses-124822x20210126x3T_wscores_1.50.png\n",
      "sub-122946_ses-122946x20210427x3T_wscores_1.50.png\n",
      "sub-121277_ses-20160907x1425_wscores_1.50.png\n",
      "sub-121105_ses-121105x20170427x3T_wscores_1.50.png\n",
      "sub-111006_ses-20050705x1118_wscores_1.50.png\n",
      "sub-105371_ses-20071009x1020_wscores_1.50.png\n",
      "sub-123352_ses-20180605x1417_wscores_1.50.png\n",
      "sub-123831_ses-123831x20201201x3T_wscores_1.50.png\n",
      "sub-100957_ses-100957_20110426_wscores_1.50.png\n",
      "sub-107457_ses-20040928x1330_wscores_1.50.png\n",
      "sub-120430_ses-20151007x1556_wscores_1.50.png\n",
      "sub-125564_ses-125564x20201105x3T_wscores_1.50.png\n",
      "sub-101841x02_ses-20090106x1214_wscores_1.50.png\n",
      "sub-105644_ses-20111103x1154_wscores_1.50.png\n",
      "sub-125572_ses-125572x20210323x3T_wscores_1.50.png\n",
      "sub-114753_ses-20060607x1336_wscores_1.50.png\n",
      "sub-105785_ses-20090512x1126_wscores_1.50.png\n",
      "sub-115264_ses-20090304x1208_wscores_1.50.png\n",
      "sub-125780_ses-125780x20210216x3T_wscores_1.50.png\n",
      "sub-122242_ses-20170810x1221_wscores_1.50.png\n",
      "sub-123575_ses-123575x20201015x3T_wscores_1.50.png\n",
      "sub-109198_ses-20091201x1029_wscores_1.50.png\n",
      "sub-115001_ses-20090331x0933_wscores_1.50.png\n",
      "sub-120937_ses-120937x20160711x3T_wscores_1.50.png\n",
      "sub-126022_ses-126022x20210112x3T_wscores_1.50.png\n",
      "sub-124568_ses-124568x20210318x3T_wscores_1.50.png\n",
      "sub-111642_ses-20080108x1018_wscores_1.50.png\n",
      "sub-105769_ses-20090316x1310_wscores_1.50.png\n",
      "sub-112286x01_ses-112286x01x20200721x3T_wscores_1.50.png\n",
      "['../../stages/stage2/subject1.png', '../../stages/stage2/subject10.png', '../../stages/stage2/subject11.png', '../../stages/stage2/subject12.png', '../../stages/stage2/subject13.png', '../../stages/stage2/subject14.png', '../../stages/stage2/subject15.png', '../../stages/stage2/subject16.png', '../../stages/stage2/subject17.png', '../../stages/stage2/subject18.png', '../../stages/stage2/subject19.png', '../../stages/stage2/subject2.png', '../../stages/stage2/subject20.png', '../../stages/stage2/subject21.png', '../../stages/stage2/subject22.png', '../../stages/stage2/subject23.png', '../../stages/stage2/subject24.png', '../../stages/stage2/subject25.png', '../../stages/stage2/subject26.png', '../../stages/stage2/subject27.png', '../../stages/stage2/subject28.png', '../../stages/stage2/subject29.png', '../../stages/stage2/subject3.png', '../../stages/stage2/subject30.png', '../../stages/stage2/subject31.png', '../../stages/stage2/subject32.png', '../../stages/stage2/subject33.png', '../../stages/stage2/subject34.png', '../../stages/stage2/subject35.png', '../../stages/stage2/subject36.png', '../../stages/stage2/subject37.png', '../../stages/stage2/subject38.png', '../../stages/stage2/subject39.png', '../../stages/stage2/subject4.png', '../../stages/stage2/subject40.png', '../../stages/stage2/subject41.png', '../../stages/stage2/subject42.png', '../../stages/stage2/subject43.png', '../../stages/stage2/subject44.png', '../../stages/stage2/subject45.png', '../../stages/stage2/subject46.png', '../../stages/stage2/subject47.png', '../../stages/stage2/subject48.png', '../../stages/stage2/subject49.png', '../../stages/stage2/subject5.png', '../../stages/stage2/subject50.png', '../../stages/stage2/subject51.png', '../../stages/stage2/subject52.png', '../../stages/stage2/subject53.png', '../../stages/stage2/subject54.png', '../../stages/stage2/subject55.png', '../../stages/stage2/subject56.png', '../../stages/stage2/subject57.png', '../../stages/stage2/subject58.png', '../../stages/stage2/subject59.png', '../../stages/stage2/subject6.png', '../../stages/stage2/subject60.png', '../../stages/stage2/subject7.png', '../../stages/stage2/subject8.png', '../../stages/stage2/subject9.png']\n"
     ]
    }
   ],
   "source": [
    "# rename files to be anonymous\n",
    "from os import listdir, rename\n",
    "from os.path import isfile, join\n",
    "\n",
    "# rename files\n",
    "image_files = []\n",
    "i=1\n",
    "for img in listdir(stage2dir):\n",
    "    print(img)\n",
    "    anon_name = join(stage2dir, 'subject'+str(i)+'.png')\n",
    "    rename(join(stage2dir, img), anon_name)\n",
    "    image_files.append(anon_name)\n",
    "    i=i+1      \n",
    "\n",
    "image_files.sort()\n",
    "print(image_files)\n"
   ]
  },
  {
   "cell_type": "markdown",
   "id": "4bbc11ee-fe2b-481a-86ca-de13c6898293",
   "metadata": {},
   "source": [
    "## Write Stage2.md page"
   ]
  },
  {
   "cell_type": "code",
   "execution_count": 18,
   "id": "6054a1e1-d6ed-424f-8151-2f7a13d9e429",
   "metadata": {},
   "outputs": [],
   "source": [
    "## Write intro to file\n",
    "markdown_file = '../../stage2.md'\n",
    "intro = \"\"\"\n",
    "---\n",
    "# Stage 2\n",
    "layout: page\n",
    "title: Stage 2\n",
    "permalink: /stage2/\n",
    "---\n",
    "\n",
    "**Instructions**\n",
    "\n",
    "Simply scroll through this web page to get a feel for the heatmaps (shuffled and unlabelled). Each map thresholded at a w-score of 1.5 (essentially one and a half standard deviations). The maximum w-score is 4. The color map is JET256, which ranges from blue to red (the range is displayed in the bottom left corner).\n",
    "\n",
    "**Side by side comparison:**  \n",
    "\n",
    "A view of the T1 and corresponding heatmap from the same subject, for reference.\n",
    "\n",
    "![Subject 58](/stages/stage2/subject58.png)\n",
    "\n",
    "\"\"\"\n",
    "\n",
    "with open(markdown_file,'w') as f:\n",
    "    f.write(intro)"
   ]
  },
  {
   "cell_type": "code",
   "execution_count": 19,
   "id": "4291ff30-682d-4d87-aa32-a30f89eedd0e",
   "metadata": {},
   "outputs": [],
   "source": [
    "# copy html from file to markdown page\n",
    "import shutil\n",
    "  \n",
    "html_file = '../t1s/sub_111642_ses_20080108x1018_t1.html'\n",
    "\n",
    "# append text to end of markdown file\n",
    "with open(html_file,'r') as f1, open(markdown_file, 'a+') as f2:\n",
    "    for line in f1:\n",
    "        # write content to second file\n",
    "        f2.write(line)\n"
   ]
  },
  {
   "cell_type": "code",
   "execution_count": 20,
   "id": "1234e021-422d-494b-96f3-7248cc0da5c3",
   "metadata": {},
   "outputs": [],
   "source": [
    "# create break between comparison and other examples\n",
    "break_str = \"\"\"\n",
    "<br/>\n",
    "- - -  \n",
    "<br/>\n",
    "\"\"\"\n",
    "with open(markdown_file,'a+') as f:\n",
    "    f.write(break_str)"
   ]
  },
  {
   "cell_type": "code",
   "execution_count": 21,
   "id": "9a4768d9-5398-4e90-b199-d2f534de510a",
   "metadata": {},
   "outputs": [
    {
     "name": "stdout",
     "output_type": "stream",
     "text": [
      "['![Subject 1](/stages/stage2/subject1.png) \\n', '![Subject 2](/stages/stage2/subject2.png) \\n', '![Subject 3](/stages/stage2/subject3.png) \\n', '![Subject 4](/stages/stage2/subject4.png) \\n', '![Subject 5](/stages/stage2/subject5.png) \\n', '![Subject 6](/stages/stage2/subject6.png) \\n', '![Subject 7](/stages/stage2/subject7.png) \\n', '![Subject 8](/stages/stage2/subject8.png) \\n', '![Subject 9](/stages/stage2/subject9.png) \\n', '![Subject 10](/stages/stage2/subject10.png) \\n', '![Subject 11](/stages/stage2/subject11.png) \\n', '![Subject 12](/stages/stage2/subject12.png) \\n', '![Subject 13](/stages/stage2/subject13.png) \\n', '![Subject 14](/stages/stage2/subject14.png) \\n', '![Subject 15](/stages/stage2/subject15.png) \\n', '![Subject 16](/stages/stage2/subject16.png) \\n', '![Subject 17](/stages/stage2/subject17.png) \\n', '![Subject 18](/stages/stage2/subject18.png) \\n', '![Subject 19](/stages/stage2/subject19.png) \\n', '![Subject 20](/stages/stage2/subject20.png) \\n', '![Subject 21](/stages/stage2/subject21.png) \\n', '![Subject 22](/stages/stage2/subject22.png) \\n', '![Subject 23](/stages/stage2/subject23.png) \\n', '![Subject 24](/stages/stage2/subject24.png) \\n', '![Subject 25](/stages/stage2/subject25.png) \\n', '![Subject 26](/stages/stage2/subject26.png) \\n', '![Subject 27](/stages/stage2/subject27.png) \\n', '![Subject 28](/stages/stage2/subject28.png) \\n', '![Subject 29](/stages/stage2/subject29.png) \\n', '![Subject 30](/stages/stage2/subject30.png) \\n', '![Subject 31](/stages/stage2/subject31.png) \\n', '![Subject 32](/stages/stage2/subject32.png) \\n', '![Subject 33](/stages/stage2/subject33.png) \\n', '![Subject 34](/stages/stage2/subject34.png) \\n', '![Subject 35](/stages/stage2/subject35.png) \\n', '![Subject 36](/stages/stage2/subject36.png) \\n', '![Subject 37](/stages/stage2/subject37.png) \\n', '![Subject 38](/stages/stage2/subject38.png) \\n', '![Subject 39](/stages/stage2/subject39.png) \\n', '![Subject 40](/stages/stage2/subject40.png) \\n', '![Subject 41](/stages/stage2/subject41.png) \\n', '![Subject 42](/stages/stage2/subject42.png) \\n', '![Subject 43](/stages/stage2/subject43.png) \\n', '![Subject 44](/stages/stage2/subject44.png) \\n', '![Subject 45](/stages/stage2/subject45.png) \\n', '![Subject 46](/stages/stage2/subject46.png) \\n', '![Subject 47](/stages/stage2/subject47.png) \\n', '![Subject 48](/stages/stage2/subject48.png) \\n', '![Subject 49](/stages/stage2/subject49.png) \\n', '![Subject 50](/stages/stage2/subject50.png) \\n', '![Subject 51](/stages/stage2/subject51.png) \\n', '![Subject 52](/stages/stage2/subject52.png) \\n', '![Subject 53](/stages/stage2/subject53.png) \\n', '![Subject 54](/stages/stage2/subject54.png) \\n', '![Subject 55](/stages/stage2/subject55.png) \\n', '![Subject 56](/stages/stage2/subject56.png) \\n', '![Subject 57](/stages/stage2/subject57.png) \\n', '![Subject 58](/stages/stage2/subject58.png) \\n', '![Subject 59](/stages/stage2/subject59.png) \\n', '![Subject 60](/stages/stage2/subject60.png) \\n']\n"
     ]
    }
   ],
   "source": [
    "# write header for image links:\n",
    "with open('../../stage2.md', 'a+') as f:\n",
    "    f.write(\"\\n\\n**Subjects** \\n\")\n",
    "\n",
    "# write image links in stage2.md\n",
    "lines = []\n",
    "for n in range(1, len(image_files) + 1):\n",
    "    line_str = \"![Subject {0}](/stages/stage2/subject{0}.png) \\n\".format(n)\n",
    "    lines.append(line_str)\n",
    "    \n",
    "print(lines)\n",
    "    \n",
    "with open('../../stage2.md', 'a+') as f:\n",
    "    f.writelines(\"%s\\n\" % l for l in lines)"
   ]
  },
  {
   "cell_type": "code",
   "execution_count": null,
   "id": "396a7324-afac-4105-b6ba-1d5aea4f2738",
   "metadata": {},
   "outputs": [],
   "source": []
  }
 ],
 "metadata": {
  "kernelspec": {
   "display_name": "Python 3",
   "language": "python",
   "name": "python3"
  },
  "language_info": {
   "codemirror_mode": {
    "name": "ipython",
    "version": 3
   },
   "file_extension": ".py",
   "mimetype": "text/x-python",
   "name": "python",
   "nbconvert_exporter": "python",
   "pygments_lexer": "ipython3",
   "version": "3.9.4"
  }
 },
 "nbformat": 4,
 "nbformat_minor": 5
}
