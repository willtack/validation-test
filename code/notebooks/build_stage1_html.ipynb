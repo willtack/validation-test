{
 "cells": [
  {
   "cell_type": "code",
   "execution_count": 13,
   "id": "27282a62-df1a-4630-b4fd-b10b1038e3c5",
   "metadata": {
    "tags": []
   },
   "outputs": [
    {
     "name": "stdout",
     "output_type": "stream",
     "text": [
      "123831: ../t1s/sub-123831_ses-123831x20201201x3T_t1.nii.gz\n",
      "../t1s/sub-123831_ses-123831x20201201x3T_t1\n",
      "105223: ../t1s/sub-105223_ses-20091103x1415_t1.nii.gz\n",
      "../t1s/sub-105223_ses-20091103x1415_t1\n"
     ]
    },
    {
     "name": "stderr",
     "output_type": "stream",
     "text": [
      "/Users/will/.local/lib/python3.8/site-packages/nilearn/_utils/param_validation.py:72: UserWarning: The given float value must not exceed 0.0. But, you have given threshold=1e-06 \n",
      "  warnings.warn(\"The given float value must not exceed {0}. \"\n"
     ]
    },
    {
     "name": "stdout",
     "output_type": "stream",
     "text": [
      "123575: ../t1s/sub-123575_ses-123575x20201015x3T_t1.nii.gz\n",
      "../t1s/sub-123575_ses-123575x20201015x3T_t1\n",
      "100049: ../t1s/sub-100049_ses-100049x20160621x3T_t1.nii.gz\n",
      "../t1s/sub-100049_ses-100049x20160621x3T_t1\n"
     ]
    },
    {
     "name": "stderr",
     "output_type": "stream",
     "text": [
      "/Users/will/.local/lib/python3.8/site-packages/nilearn/_utils/param_validation.py:72: UserWarning: The given float value must not exceed 0.0. But, you have given threshold=1e-06 \n",
      "  warnings.warn(\"The given float value must not exceed {0}. \"\n"
     ]
    },
    {
     "name": "stdout",
     "output_type": "stream",
     "text": [
      "103610: ../t1s/sub-103610_ses-20101220x1159_t1.nii.gz\n",
      "../t1s/sub-103610_ses-20101220x1159_t1\n"
     ]
    },
    {
     "name": "stderr",
     "output_type": "stream",
     "text": [
      "/Users/will/.local/lib/python3.8/site-packages/nilearn/_utils/param_validation.py:72: UserWarning: The given float value must not exceed 0.0. But, you have given threshold=1e-06 \n",
      "  warnings.warn(\"The given float value must not exceed {0}. \"\n"
     ]
    },
    {
     "name": "stdout",
     "output_type": "stream",
     "text": [
      "107457: ../t1s/sub-107457_ses-20040928x1330_t1.nii.gz\n",
      "../t1s/sub-107457_ses-20040928x1330_t1\n",
      "120430: ../t1s/sub-120430_ses-20151007x1556_t1.nii.gz\n",
      "../t1s/sub-120430_ses-20151007x1556_t1\n",
      "112286x01: ../t1s/sub-112286x01_ses-112286x01x20200721x3T_t1.nii.gz\n",
      "../t1s/sub-112286x01_ses-112286x01x20200721x3T_t1\n",
      "124568: ../t1s/sub-124568_ses-124568x20210318x3T_t1.nii.gz\n",
      "../t1s/sub-124568_ses-124568x20210318x3T_t1\n"
     ]
    },
    {
     "name": "stderr",
     "output_type": "stream",
     "text": [
      "/Users/will/.local/lib/python3.8/site-packages/nilearn/_utils/param_validation.py:72: UserWarning: The given float value must not exceed 0.0. But, you have given threshold=1e-06 \n",
      "  warnings.warn(\"The given float value must not exceed {0}. \"\n"
     ]
    },
    {
     "name": "stdout",
     "output_type": "stream",
     "text": [
      "107486: ../t1s/sub-107486_ses-107486x20200929x3T_t1.nii.gz\n",
      "../t1s/sub-107486_ses-107486x20200929x3T_t1\n"
     ]
    },
    {
     "name": "stderr",
     "output_type": "stream",
     "text": [
      "/Users/will/.local/lib/python3.8/site-packages/nilearn/_utils/param_validation.py:72: UserWarning: The given float value must not exceed 0.0. But, you have given threshold=1e-06 \n",
      "  warnings.warn(\"The given float value must not exceed {0}. \"\n"
     ]
    },
    {
     "name": "stdout",
     "output_type": "stream",
     "text": [
      "105371: ../t1s/sub-105371_ses-20071009x1020_t1.nii.gz\n",
      "../t1s/sub-105371_ses-20071009x1020_t1\n"
     ]
    },
    {
     "name": "stderr",
     "output_type": "stream",
     "text": [
      "/Users/will/.local/lib/python3.8/site-packages/nilearn/_utils/param_validation.py:72: UserWarning: The given float value must not exceed 0.0. But, you have given threshold=1e-06 \n",
      "  warnings.warn(\"The given float value must not exceed {0}. \"\n"
     ]
    },
    {
     "name": "stdout",
     "output_type": "stream",
     "text": [
      "124822: ../t1s/sub-124822_ses-124822x20210126x3T_t1.nii.gz\n",
      "../t1s/sub-124822_ses-124822x20210126x3T_t1\n",
      "121105: ../t1s/sub-121105_ses-121105x20170427x3T_t1.nii.gz\n",
      "../t1s/sub-121105_ses-121105x20170427x3T_t1\n"
     ]
    },
    {
     "name": "stderr",
     "output_type": "stream",
     "text": [
      "/Users/will/.local/lib/python3.8/site-packages/nilearn/_utils/param_validation.py:72: UserWarning: The given float value must not exceed 0.0. But, you have given threshold=1e-06 \n",
      "  warnings.warn(\"The given float value must not exceed {0}. \"\n"
     ]
    },
    {
     "name": "stdout",
     "output_type": "stream",
     "text": [
      "126022: ../t1s/sub-126022_ses-126022x20210112x3T_t1.nii.gz\n",
      "../t1s/sub-126022_ses-126022x20210112x3T_t1\n"
     ]
    },
    {
     "name": "stderr",
     "output_type": "stream",
     "text": [
      "/Users/will/.local/lib/python3.8/site-packages/nilearn/_utils/param_validation.py:72: UserWarning: The given float value must not exceed 0.0. But, you have given threshold=1e-06 \n",
      "  warnings.warn(\"The given float value must not exceed {0}. \"\n"
     ]
    },
    {
     "name": "stdout",
     "output_type": "stream",
     "text": [
      "101841x02: ../t1s/sub-101841x02_ses-20090106x1214_t1.nii.gz\n",
      "../t1s/sub-101841x02_ses-20090106x1214_t1\n"
     ]
    },
    {
     "name": "stderr",
     "output_type": "stream",
     "text": [
      "/Users/will/.local/lib/python3.8/site-packages/nilearn/_utils/param_validation.py:72: UserWarning: The given float value must not exceed 0.0. But, you have given threshold=1e-06 \n",
      "  warnings.warn(\"The given float value must not exceed {0}. \"\n"
     ]
    },
    {
     "name": "stdout",
     "output_type": "stream",
     "text": [
      "113066x02: ../t1s/sub-113066x02_ses-113066x02x20210427x3T_t1.nii.gz\n",
      "../t1s/sub-113066x02_ses-113066x02x20210427x3T_t1\n",
      "116504: ../t1s/sub-116504_ses-20111220x1256_t1.nii.gz\n",
      "../t1s/sub-116504_ses-20111220x1256_t1\n"
     ]
    },
    {
     "name": "stderr",
     "output_type": "stream",
     "text": [
      "/Users/will/.local/lib/python3.8/site-packages/nilearn/_utils/param_validation.py:72: UserWarning: The given float value must not exceed 0.0. But, you have given threshold=1e-06 \n",
      "  warnings.warn(\"The given float value must not exceed {0}. \"\n"
     ]
    },
    {
     "name": "stdout",
     "output_type": "stream",
     "text": [
      "109198: ../t1s/sub-109198_ses-20091201x1029_t1.nii.gz\n",
      "../t1s/sub-109198_ses-20091201x1029_t1\n",
      "124938: ../t1s/sub-124938_ses-124938x20210527x3T_t1.nii.gz\n",
      "../t1s/sub-124938_ses-124938x20210527x3T_t1\n",
      "125780: ../t1s/sub-125780_ses-125780x20210216x3T_t1.nii.gz\n",
      "../t1s/sub-125780_ses-125780x20210216x3T_t1\n"
     ]
    },
    {
     "name": "stderr",
     "output_type": "stream",
     "text": [
      "/Users/will/.local/lib/python3.8/site-packages/nilearn/_utils/param_validation.py:72: UserWarning: The given float value must not exceed 0.0. But, you have given threshold=1e-06 \n",
      "  warnings.warn(\"The given float value must not exceed {0}. \"\n"
     ]
    },
    {
     "name": "stdout",
     "output_type": "stream",
     "text": [
      "125564: ../t1s/sub-125564_ses-125564x20201105x3T_t1.nii.gz\n",
      "../t1s/sub-125564_ses-125564x20201105x3T_t1\n"
     ]
    },
    {
     "name": "stderr",
     "output_type": "stream",
     "text": [
      "/Users/will/.local/lib/python3.8/site-packages/nilearn/_utils/param_validation.py:72: UserWarning: The given float value must not exceed 0.0. But, you have given threshold=1e-06 \n",
      "  warnings.warn(\"The given float value must not exceed {0}. \"\n"
     ]
    },
    {
     "name": "stdout",
     "output_type": "stream",
     "text": [
      "104190: ../t1s/sub-104190_ses-20091109x1206_t1.nii.gz\n",
      "../t1s/sub-104190_ses-20091109x1206_t1\n"
     ]
    },
    {
     "name": "stderr",
     "output_type": "stream",
     "text": [
      "/Users/will/.local/lib/python3.8/site-packages/nilearn/_utils/param_validation.py:72: UserWarning: The given float value must not exceed 0.0. But, you have given threshold=1e-06 \n",
      "  warnings.warn(\"The given float value must not exceed {0}. \"\n"
     ]
    },
    {
     "name": "stdout",
     "output_type": "stream",
     "text": [
      "111006: ../t1s/sub-111006_ses-20050705x1118_t1.nii.gz\n",
      "../t1s/sub-111006_ses-20050705x1118_t1\n",
      "125572: ../t1s/sub-125572_ses-125572x20210323x3T_t1.nii.gz\n",
      "../t1s/sub-125572_ses-125572x20210323x3T_t1\n",
      "122216: ../t1s/sub-122216_ses-122216x20200205x3T_t1.nii.gz\n",
      "../t1s/sub-122216_ses-122216x20200205x3T_t1\n"
     ]
    },
    {
     "name": "stderr",
     "output_type": "stream",
     "text": [
      "/Users/will/.local/lib/python3.8/site-packages/nilearn/_utils/param_validation.py:72: UserWarning: The given float value must not exceed 0.0. But, you have given threshold=1e-06 \n",
      "  warnings.warn(\"The given float value must not exceed {0}. \"\n"
     ]
    },
    {
     "name": "stdout",
     "output_type": "stream",
     "text": [
      "122242: ../t1s/sub-122242_ses-20170810x1221_t1.nii.gz\n",
      "../t1s/sub-122242_ses-20170810x1221_t1\n"
     ]
    },
    {
     "name": "stderr",
     "output_type": "stream",
     "text": [
      "/Users/will/.local/lib/python3.8/site-packages/nilearn/_utils/param_validation.py:72: UserWarning: The given float value must not exceed 0.0. But, you have given threshold=1e-06 \n",
      "  warnings.warn(\"The given float value must not exceed {0}. \"\n"
     ]
    },
    {
     "name": "stdout",
     "output_type": "stream",
     "text": [
      "123894: ../t1s/sub-123894_ses-123894x20190327x3T_t1.nii.gz\n",
      "../t1s/sub-123894_ses-123894x20190327x3T_t1\n",
      "115264: ../t1s/sub-115264_ses-20090304x1208_t1.nii.gz\n",
      "../t1s/sub-115264_ses-20090304x1208_t1\n"
     ]
    },
    {
     "name": "stderr",
     "output_type": "stream",
     "text": [
      "/Users/will/.local/lib/python3.8/site-packages/nilearn/_utils/param_validation.py:72: UserWarning: The given float value must not exceed 0.0. But, you have given threshold=1e-06 \n",
      "  warnings.warn(\"The given float value must not exceed {0}. \"\n"
     ]
    },
    {
     "name": "stdout",
     "output_type": "stream",
     "text": [
      "122821: ../t1s/sub-122821_ses-20180110x1405_t1.nii.gz\n",
      "../t1s/sub-122821_ses-20180110x1405_t1\n",
      "120691: ../t1s/sub-120691_ses-20160121x1259_t1.nii.gz\n",
      "../t1s/sub-120691_ses-20160121x1259_t1\n",
      "105785: ../t1s/sub-105785_ses-20090512x1126_t1.nii.gz\n",
      "../t1s/sub-105785_ses-20090512x1126_t1\n",
      "124972: ../t1s/sub-124972_ses-124972x20210525x3T_t1.nii.gz\n",
      "../t1s/sub-124972_ses-124972x20210525x3T_t1\n",
      "122417: ../t1s/sub-122417_ses-20171213x1012_t1.nii.gz\n",
      "../t1s/sub-122417_ses-20171213x1012_t1\n"
     ]
    },
    {
     "name": "stderr",
     "output_type": "stream",
     "text": [
      "/Users/will/.local/lib/python3.8/site-packages/nilearn/_utils/param_validation.py:72: UserWarning: The given float value must not exceed 0.0. But, you have given threshold=1e-06 \n",
      "  warnings.warn(\"The given float value must not exceed {0}. \"\n"
     ]
    },
    {
     "name": "stdout",
     "output_type": "stream",
     "text": [
      "111642: ../t1s/sub-111642_ses-20080108x1018_t1.nii.gz\n",
      "../t1s/sub-111642_ses-20080108x1018_t1\n",
      "105769: ../t1s/sub-105769_ses-20090316x1310_t1.nii.gz\n",
      "../t1s/sub-105769_ses-20090316x1310_t1\n",
      "115001: ../t1s/sub-115001_ses-20090331x0933_t1.nii.gz\n",
      "../t1s/sub-115001_ses-20090331x0933_t1\n",
      "118460: ../t1s/sub-118460_ses-20131108x1000_t1.nii.gz\n",
      "../t1s/sub-118460_ses-20131108x1000_t1\n",
      "114753: ../t1s/sub-114753_ses-20060607x1336_t1.nii.gz\n",
      "../t1s/sub-114753_ses-20060607x1336_t1\n",
      "100957: ../t1s/sub-100957_ses-100957_20110426_t1.nii.gz\n",
      "../t1s/sub-100957_ses-100957_20110426_t1\n",
      "105644: ../t1s/sub-105644_ses-20111103x1154_t1.nii.gz\n",
      "../t1s/sub-105644_ses-20111103x1154_t1\n",
      "108790: ../t1s/sub-108790_ses-20090218x1235_t1.nii.gz\n",
      "../t1s/sub-108790_ses-20090218x1235_t1\n",
      "100978: ../t1s/sub-100978_ses-20041103x1130_t1.nii.gz\n",
      "../t1s/sub-100978_ses-20041103x1130_t1\n",
      "123352: ../t1s/sub-123352_ses-20180605x1417_t1.nii.gz\n",
      "../t1s/sub-123352_ses-20180605x1417_t1\n",
      "121277: ../t1s/sub-121277_ses-20160907x1425_t1.nii.gz\n",
      "../t1s/sub-121277_ses-20160907x1425_t1\n",
      "125098: ../t1s/sub-125098_ses-20190710x1517_t1.nii.gz\n",
      "../t1s/sub-125098_ses-20190710x1517_t1\n",
      "110445: ../t1s/sub-110445_ses-20060726x1128_t1.nii.gz\n",
      "../t1s/sub-110445_ses-20060726x1128_t1\n"
     ]
    },
    {
     "name": "stderr",
     "output_type": "stream",
     "text": [
      "/Users/will/.local/lib/python3.8/site-packages/nilearn/_utils/param_validation.py:72: UserWarning: The given float value must not exceed 0.0. But, you have given threshold=1e-06 \n",
      "  warnings.warn(\"The given float value must not exceed {0}. \"\n"
     ]
    },
    {
     "name": "stdout",
     "output_type": "stream",
     "text": [
      "118410: ../t1s/sub-118410_ses-20140226x1627_t1.nii.gz\n",
      "../t1s/sub-118410_ses-20140226x1627_t1\n",
      "122601: ../t1s/sub-122601_ses-20170920x1313_t1.nii.gz\n",
      "../t1s/sub-122601_ses-20170920x1313_t1\n",
      "118011: ../t1s/sub-118011_ses-20130612x1523_t1.nii.gz\n",
      "../t1s/sub-118011_ses-20130612x1523_t1\n",
      "122946: ../t1s/sub-122946_ses-122946x20210427x3T_t1.nii.gz\n",
      "../t1s/sub-122946_ses-122946x20210427x3T_t1\n",
      "100113: ../t1s/sub-100113_ses-100113x20160620x3T_t1.nii.gz\n",
      "../t1s/sub-100113_ses-100113x20160620x3T_t1\n"
     ]
    },
    {
     "name": "stderr",
     "output_type": "stream",
     "text": [
      "/Users/will/.local/lib/python3.8/site-packages/nilearn/_utils/param_validation.py:72: UserWarning: The given float value must not exceed 0.0. But, you have given threshold=1e-06 \n",
      "  warnings.warn(\"The given float value must not exceed {0}. \"\n"
     ]
    },
    {
     "name": "stdout",
     "output_type": "stream",
     "text": [
      "114666: ../t1s/sub-114666_ses-20050209x1135_t1.nii.gz\n",
      "../t1s/sub-114666_ses-20050209x1135_t1\n"
     ]
    },
    {
     "name": "stderr",
     "output_type": "stream",
     "text": [
      "/Users/will/.local/lib/python3.8/site-packages/nilearn/_utils/param_validation.py:72: UserWarning: The given float value must not exceed 0.0. But, you have given threshold=1e-06 \n",
      "  warnings.warn(\"The given float value must not exceed {0}. \"\n"
     ]
    },
    {
     "name": "stdout",
     "output_type": "stream",
     "text": [
      "105468: ../t1s/sub-105468_ses-20060802x1113_t1.nii.gz\n",
      "../t1s/sub-105468_ses-20060802x1113_t1\n",
      "119851: ../t1s/sub-119851_ses-119851x20170606x3T_t1.nii.gz\n",
      "../t1s/sub-119851_ses-119851x20170606x3T_t1\n",
      "120937: ../t1s/sub-120937_ses-120937x20160711x3T_t1.nii.gz\n",
      "../t1s/sub-120937_ses-120937x20160711x3T_t1\n"
     ]
    },
    {
     "name": "stderr",
     "output_type": "stream",
     "text": [
      "/Users/will/.local/lib/python3.8/site-packages/nilearn/_utils/param_validation.py:72: UserWarning: The given float value must not exceed 0.0. But, you have given threshold=1e-06 \n",
      "  warnings.warn(\"The given float value must not exceed {0}. \"\n"
     ]
    },
    {
     "name": "stdout",
     "output_type": "stream",
     "text": [
      "122005: ../t1s/sub-122005_ses-122005x20171213x3T_t1.nii.gz\n",
      "../t1s/sub-122005_ses-122005x20171213x3T_t1\n"
     ]
    },
    {
     "name": "stderr",
     "output_type": "stream",
     "text": [
      "/Users/will/.local/lib/python3.8/site-packages/nilearn/_utils/param_validation.py:72: UserWarning: The given float value must not exceed 0.0. But, you have given threshold=1e-06 \n",
      "  warnings.warn(\"The given float value must not exceed {0}. \"\n"
     ]
    },
    {
     "name": "stdout",
     "output_type": "stream",
     "text": [
      "125687: ../t1s/sub-125687_ses-125687x20200714x3T_t1.nii.gz\n",
      "../t1s/sub-125687_ses-125687x20200714x3T_t1\n"
     ]
    },
    {
     "name": "stderr",
     "output_type": "stream",
     "text": [
      "/Users/will/.local/lib/python3.8/site-packages/nilearn/_utils/param_validation.py:72: UserWarning: The given float value must not exceed 0.0. But, you have given threshold=1e-06 \n",
      "  warnings.warn(\"The given float value must not exceed {0}. \"\n"
     ]
    },
    {
     "name": "stdout",
     "output_type": "stream",
     "text": [
      "124509: ../t1s/sub-124509_ses-124509x20200813x3T_t1.nii.gz\n",
      "../t1s/sub-124509_ses-124509x20200813x3T_t1\n"
     ]
    },
    {
     "name": "stderr",
     "output_type": "stream",
     "text": [
      "/Users/will/.local/lib/python3.8/site-packages/nilearn/_utils/param_validation.py:72: UserWarning: The given float value must not exceed 0.0. But, you have given threshold=1e-06 \n",
      "  warnings.warn(\"The given float value must not exceed {0}. \"\n"
     ]
    },
    {
     "name": "stdout",
     "output_type": "stream",
     "text": [
      "125987: ../t1s/sub-125987_ses-125987x20210610x3T_t1.nii.gz\n",
      "../t1s/sub-125987_ses-125987x20210610x3T_t1\n"
     ]
    },
    {
     "name": "stderr",
     "output_type": "stream",
     "text": [
      "/Users/will/.local/lib/python3.8/site-packages/nilearn/_utils/param_validation.py:72: UserWarning: The given float value must not exceed 0.0. But, you have given threshold=1e-06 \n",
      "  warnings.warn(\"The given float value must not exceed {0}. \"\n"
     ]
    },
    {
     "name": "stdout",
     "output_type": "stream",
     "text": [
      "100551: ../t1s/sub-100551_ses-20081008x1021_t1.nii.gz\n",
      "../t1s/sub-100551_ses-20081008x1021_t1\n"
     ]
    },
    {
     "name": "stderr",
     "output_type": "stream",
     "text": [
      "/Users/will/.local/lib/python3.8/site-packages/nilearn/_utils/param_validation.py:72: UserWarning: The given float value must not exceed 0.0. But, you have given threshold=1e-06 \n",
      "  warnings.warn(\"The given float value must not exceed {0}. \"\n"
     ]
    }
   ],
   "source": [
    "# convert the T1 niftis to interactive HTML plots for the website\n",
    "from nilearn import plotting\n",
    "import os\n",
    "import pandas as pd\n",
    "\n",
    "datadir='../t1s'\n",
    "for t1 in os.listdir(datadir):\n",
    "    # filter out already blanked images and non-image files\n",
    "    if 'blank' in t1 or 'nii' not in t1:\n",
    "        continue\n",
    "        \n",
    "    # read lookup table for subject pseudonyms for stage 1 \n",
    "    sub_label = t1.split('sub-')[1].split('_')[0] # get subject label from filename\n",
    "    df = pd.read_csv('../lookup_table_2021-12-1_17:25.csv')\n",
    "    n = int(df[df['Subject Label']==sub_label]['Stage 1'])\n",
    "\n",
    "    t1_path = os.path.join(datadir, t1)\n",
    "    print(f\"{sub_label}: {t1_path}\")\n",
    "    fstem = t1_path.split('.nii.gz')[0]\n",
    "    print(fstem)\n",
    "    \n",
    "    empty_img = fstem + \"_blank.nii.gz\"\n",
    "    os.system(\"fslmaths {} -mul 0 {}\".format(t1_path, empty_img))\n",
    "\n",
    "    html_view = plotting.view_img(empty_img, bg_img=t1_path, black_bg=True, dim=-0.5, cut_coords=[0,10,17], colorbar=False, symmetric_cmap=False, title=\"Subject\"+str(n))\n",
    "    html_view.save_as_html('../../stages/stage1/Subject%s.html' % n)\n"
   ]
  },
  {
   "cell_type": "code",
   "execution_count": 35,
   "id": "9a813ae3-3859-4587-a9d3-171e48b26169",
   "metadata": {},
   "outputs": [
    {
     "name": "stdout",
     "output_type": "stream",
     "text": [
      "['- [Subject 1](/stages/stage1/Subject1.html) \\n', '- [Subject 2](/stages/stage1/Subject2.html) \\n', '- [Subject 3](/stages/stage1/Subject3.html) \\n', '- [Subject 4](/stages/stage1/Subject4.html) \\n', '- [Subject 5](/stages/stage1/Subject5.html) \\n', '- [Subject 6](/stages/stage1/Subject6.html) \\n', '- [Subject 7](/stages/stage1/Subject7.html) \\n', '- [Subject 8](/stages/stage1/Subject8.html) \\n', '- [Subject 9](/stages/stage1/Subject9.html) \\n', '- [Subject 10](/stages/stage1/Subject10.html) \\n', '- [Subject 11](/stages/stage1/Subject11.html) \\n', '- [Subject 12](/stages/stage1/Subject12.html) \\n', '- [Subject 13](/stages/stage1/Subject13.html) \\n', '- [Subject 14](/stages/stage1/Subject14.html) \\n', '- [Subject 15](/stages/stage1/Subject15.html) \\n', '- [Subject 16](/stages/stage1/Subject16.html) \\n', '- [Subject 17](/stages/stage1/Subject17.html) \\n', '- [Subject 18](/stages/stage1/Subject18.html) \\n', '- [Subject 19](/stages/stage1/Subject19.html) \\n', '- [Subject 20](/stages/stage1/Subject20.html) \\n', '- [Subject 21](/stages/stage1/Subject21.html) \\n', '- [Subject 22](/stages/stage1/Subject22.html) \\n', '- [Subject 23](/stages/stage1/Subject23.html) \\n', '- [Subject 24](/stages/stage1/Subject24.html) \\n', '- [Subject 25](/stages/stage1/Subject25.html) \\n', '- [Subject 26](/stages/stage1/Subject26.html) \\n', '- [Subject 27](/stages/stage1/Subject27.html) \\n', '- [Subject 28](/stages/stage1/Subject28.html) \\n', '- [Subject 29](/stages/stage1/Subject29.html) \\n', '- [Subject 30](/stages/stage1/Subject30.html) \\n', '- [Subject 31](/stages/stage1/Subject31.html) \\n', '- [Subject 32](/stages/stage1/Subject32.html) \\n', '- [Subject 33](/stages/stage1/Subject33.html) \\n', '- [Subject 34](/stages/stage1/Subject34.html) \\n', '- [Subject 35](/stages/stage1/Subject35.html) \\n', '- [Subject 36](/stages/stage1/Subject36.html) \\n', '- [Subject 37](/stages/stage1/Subject37.html) \\n', '- [Subject 38](/stages/stage1/Subject38.html) \\n', '- [Subject 39](/stages/stage1/Subject39.html) \\n', '- [Subject 40](/stages/stage1/Subject40.html) \\n', '- [Subject 41](/stages/stage1/Subject41.html) \\n', '- [Subject 42](/stages/stage1/Subject42.html) \\n', '- [Subject 43](/stages/stage1/Subject43.html) \\n', '- [Subject 44](/stages/stage1/Subject44.html) \\n', '- [Subject 45](/stages/stage1/Subject45.html) \\n', '- [Subject 46](/stages/stage1/Subject46.html) \\n', '- [Subject 47](/stages/stage1/Subject47.html) \\n', '- [Subject 48](/stages/stage1/Subject48.html) \\n', '- [Subject 49](/stages/stage1/Subject49.html) \\n', '- [Subject 50](/stages/stage1/Subject50.html) \\n', '- [Subject 51](/stages/stage1/Subject51.html) \\n', '- [Subject 52](/stages/stage1/Subject52.html) \\n', '- [Subject 53](/stages/stage1/Subject53.html) \\n', '- [Subject 54](/stages/stage1/Subject54.html) \\n', '- [Subject 55](/stages/stage1/Subject55.html) \\n', '- [Subject 56](/stages/stage1/Subject56.html) \\n', '- [Subject 57](/stages/stage1/Subject57.html) \\n', '- [Subject 58](/stages/stage1/Subject58.html) \\n', '- [Subject 59](/stages/stage1/Subject59.html) \\n', '- [Subject 60](/stages/stage1/Subject60.html) \\n']\n"
     ]
    }
   ],
   "source": [
    "# write image links in stage1.md\n",
    "html_dir = '../../stages/stage1/'\n",
    "html_files = os.listdir(html_dir)\n",
    "lines = []\n",
    "for n in range(1, len(html_files) + 1):\n",
    "    line_str = \"- [Subject {0}](/stages/stage1/Subject{0}.html) \\n\".format(n)\n",
    "    lines.append(line_str)\n",
    "    \n",
    "print(lines)\n",
    "    \n",
    "with open('../../stage1.md', 'a+') as f:\n",
    "    f.writelines(\"%s\\n\" % l for l in lines)"
   ]
  },
  {
   "cell_type": "code",
   "execution_count": null,
   "id": "5480228c-51a8-459f-85b1-1a9f0b71b9d4",
   "metadata": {},
   "outputs": [],
   "source": []
  }
 ],
 "metadata": {
  "kernelspec": {
   "display_name": "Python 3",
   "language": "python",
   "name": "python3"
  },
  "language_info": {
   "codemirror_mode": {
    "name": "ipython",
    "version": 3
   },
   "file_extension": ".py",
   "mimetype": "text/x-python",
   "name": "python",
   "nbconvert_exporter": "python",
   "pygments_lexer": "ipython3",
   "version": "3.9.4"
  }
 },
 "nbformat": 4,
 "nbformat_minor": 5
}
