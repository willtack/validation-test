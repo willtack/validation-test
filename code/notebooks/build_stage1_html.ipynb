{
 "cells": [
  {
   "cell_type": "code",
   "execution_count": 1,
   "id": "27282a62-df1a-4630-b4fd-b10b1038e3c5",
   "metadata": {
    "tags": []
   },
   "outputs": [
    {
     "name": "stdout",
     "output_type": "stream",
     "text": [
      "124509: /home/will/Projects/validation-test/code/t1s/sub-124509_ses-124509x20200813x3T_t1.nii.gz\n",
      "100957: /home/will/Projects/validation-test/code/t1s/sub-100957_ses-100957_20110426_t1.nii.gz\n"
     ]
    }
   ],
   "source": [
    "# convert the T1 niftis to interactive HTML plots for the website\n",
    "import os\n",
    "import pandas as pd\n",
    "\n",
    "datadir='/home/will/Projects/validation-test/code/t1s'\n",
    "i=1\n",
    "for t1 in os.listdir(datadir):\n",
    "    # filter out already blanked images and non-image files\n",
    "    if 'blank' in t1 or 'nii' not in t1:\n",
    "        continue\n",
    "        \n",
    "    # read lookup table for subject pseudonyms for stage 1 \n",
    "    sub_label = t1.split('sub-')[1].split('_')[0] # get subject label from filename\n",
    "    df = pd.read_csv('../lookup_table_2021-12-1_17:25.csv')\n",
    "    n = int(df[df['Subject Label']==sub_label]['Stage 1'])\n",
    "\n",
    "    t1_path = os.path.join(datadir, t1)\n",
    "    print(f\"{sub_label}: {t1_path}\")\n",
    "    fstem = t1_path.split('.nii.gz')[0]\n",
    "    \n",
    "    # copy the T1 to dummy file for params.json\n",
    "    dummy_t1_path = \"/home/will/Projects/validation-test/code/viewer/t1.nii.gz\"\n",
    "    os.system(f\"cp {t1_path} {dummy_t1_path}\")\n",
    "    # create the html viewer file\n",
    "    cmd1 = f\"bash -x ../viewer/Papaya/papaya-builder.sh \\\n",
    "        -singlefile \\\n",
    "        -images {dummy_t1_path} \\\n",
    "        -parameterfile /home/will/Projects/validation-test/code/viewer/params.json \\\n",
    "        -nodicom \\\n",
    "        -title 'Subject {i}' \\\n",
    "        -local\"\n",
    "    # copy the file to the html/ directory\n",
    "    cmd2 = f\"cp ../viewer/Papaya/build/index.html ../../stages/stage1/Subject{n}.html\"\n",
    "\n",
    "    os.system(cmd1)\n",
    "    os.system(cmd2)\n",
    "    \n",
    "    i=i+1"
   ]
  },
  {
   "cell_type": "code",
   "execution_count": 6,
   "id": "9a813ae3-3859-4587-a9d3-171e48b26169",
   "metadata": {},
   "outputs": [],
   "source": [
    "## Write intro to file\n",
    "markdown_file = '../../stage1.md'\n",
    "intro = \"\"\"---\n",
    "# Stage 1\n",
    "layout: page\n",
    "title: Stage 1\n",
    "permalink: /stage1/\n",
    "---\n",
    "\n",
    "**Instructions**\n",
    "\n",
    "You will look at subjects’ T1 images using the links below and record your diagnostic choices in the [corresponding form](https://forms.gle/McRPQjKfjSLRB31XA).\n",
    "I recommend opening the form in another window to facilitate flipping back and forth. Also recommend zooming in with your browser as these viewers render quite small.\n",
    "Using the viewer:\n",
    " - Navigate through the slices by clicking and dragging the crosshairs. (The +/- buttons by the view names at the bottom are also for navigating but they're very slow.)\n",
    " - Press \"Swap View\" to change which view is in the larger box\n",
    " - Change the contrast by right-clicking anywhere in the image and dragging up or down.\n",
    " - Image displays are in **neurological** orientation (left=left).\n",
    "\n",
    "\"\"\"\n",
    "\n",
    "with open(markdown_file,'w') as f:\n",
    "    f.write(intro)"
   ]
  },
  {
   "cell_type": "code",
   "execution_count": 7,
   "id": "7f23bf13-240b-4c3b-afcc-a301ffd0e143",
   "metadata": {},
   "outputs": [],
   "source": [
    "# copy html from file to markdown page\n",
    "css = \"\"\"\n",
    " <style>\n",
    " .iframe-container {\n",
    "   overflow: hidden;\n",
    "   /* 16:9 aspect ratio */\n",
    "   padding-top: 56.25%;\n",
    "   position: relative;\n",
    " }\n",
    " .iframe-container iframe {\n",
    "    border: 0;\n",
    "    height: 100%;\n",
    "    left: 0;\n",
    "    position: absolute;\n",
    "    top: 0;\n",
    "    width: 100%;\n",
    " }\n",
    " </style>\n",
    "\n",
    "\"\"\"\n",
    "\n",
    "subjects = \"\"\"\n",
    "<div class=\"iframe-container\">\n",
    "    <iframe src=\"/stages/stage1/Subject29.html\">Subject 1</iframe>\n",
    "</div>\n",
    "\n",
    "<div class=\"iframe-container\">\n",
    "  <iframe src=\"/stages/stage1/Subject25.html\">Subject 2</iframe>\n",
    "</div>\n",
    "\"\"\"\n",
    "\n",
    "# add link to next stage at bottom\n",
    "breakstr = \"\"\"\n",
    "<br/>\n",
    "- - -  \n",
    "<br/>\n",
    "\"\"\"\n",
    "link = \"### NEXT STEP: [Stage 2]({{ '/stage2/' | relative_url }})\"\n",
    "\n",
    "with open(markdown_file,'a+') as f:\n",
    "    f.write(css)\n",
    "    f.write(subjects)\n",
    "    f.write(breakstr)\n",
    "    f.write(link)"
   ]
  },
  {
   "cell_type": "code",
   "execution_count": null,
   "id": "db9a42e5-fa61-41a7-8b65-6364c8d35a9a",
   "metadata": {},
   "outputs": [],
   "source": []
  }
 ],
 "metadata": {
  "kernelspec": {
   "display_name": "Python 3",
   "language": "python",
   "name": "python3"
  },
  "language_info": {
   "codemirror_mode": {
    "name": "ipython",
    "version": 3
   },
   "file_extension": ".py",
   "mimetype": "text/x-python",
   "name": "python",
   "nbconvert_exporter": "python",
   "pygments_lexer": "ipython3",
   "version": "3.9.4"
  }
 },
 "nbformat": 4,
 "nbformat_minor": 5
}
